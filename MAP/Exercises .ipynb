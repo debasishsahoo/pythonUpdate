{
 "cells": [
  {
   "cell_type": "markdown",
   "id": "37a4acf4",
   "metadata": {},
   "source": [
    "# Create a list of 3 elements and calculate the third potency of each element using a list comprehension"
   ]
  },
  {
   "cell_type": "code",
   "execution_count": 2,
   "id": "b24f9e76",
   "metadata": {},
   "outputs": [
    {
     "name": "stdout",
     "output_type": "stream",
     "text": [
      "[27, 125, 125]\n"
     ]
    }
   ],
   "source": [
    "numbers = [3, 5, 5]\n",
    "results = list()\n",
    "results = [item**3 for item in numbers]\n",
    "print(results)"
   ]
  },
  {
   "cell_type": "markdown",
   "id": "fd21c510",
   "metadata": {},
   "source": [
    "# CALCULATE THE OUTPUT USING map() function "
   ]
  },
  {
   "cell_type": "markdown",
   "id": "f4b67ef9",
   "metadata": {},
   "source": [
    "#out:\n",
    "['DATA', 'data', 4]\n",
    "\n",
    "['SCIENCE', 'science', 7]\n",
    "\n",
    "['ACADEMY', 'academy', 7]\n",
    "\n",
    "['OFFERS', 'offers', 6]\n",
    "\n",
    "['THE', 'the', 3]\n",
    "\n",
    "['BEST', 'best', 4]\n",
    "\n",
    "['DATA', 'data', 4]\n",
    "\n",
    "['ANALYSIS', 'analysis', 8]\n",
    "\n",
    "['COURSES', 'courses', 7]\n",
    "\n",
    "['IN', 'in', 2]\n",
    "\n",
    "['BRAZIL', 'brazil', 6]\n"
   ]
  },
  {
   "cell_type": "code",
   "execution_count": 3,
   "id": "df853862",
   "metadata": {},
   "outputs": [
    {
     "name": "stdout",
     "output_type": "stream",
     "text": [
      "['DATA', 'data', 4]\n",
      "['SCIENCE', 'science', 7]\n",
      "['ACADEMY', 'academy', 7]\n",
      "['OFFERS', 'offers', 6]\n",
      "['THE', 'the', 3]\n",
      "['BEST', 'best', 4]\n",
      "['DATA', 'data', 4]\n",
      "['ANALYSIS', 'analysis', 8]\n",
      "['COURSES', 'courses', 7]\n",
      "['IN', 'in', 2]\n",
      "['BRAZIL', 'brazil', 6]\n"
     ]
    }
   ],
   "source": [
    "words = 'Data Science Academy offers the best data analysis courses in Brazil'.split()\n",
    "results = map(lambda w: [w.upper(), w.lower(), len(w)], words)\n",
    "for i in results:\n",
    "    print(i)"
   ]
  },
  {
   "cell_type": "markdown",
   "id": "640693c7",
   "metadata": {},
   "source": [
    "# Calculate the matrix transposed from the matrix below."
   ]
  },
  {
   "cell_type": "code",
   "execution_count": 4,
   "id": "ffe0e451",
   "metadata": {},
   "outputs": [
    {
     "name": "stdout",
     "output_type": "stream",
     "text": [
      "[[1, 3, 5, 7], [2, 4, 6, 8]]\n"
     ]
    }
   ],
   "source": [
    "matrix = [[1, 2],[3,4],[5,6],[7,8]]\n",
    "transpose = [[row[i] for row in matrix] for i in range(2)]\n",
    "print(transpose)"
   ]
  },
  {
   "cell_type": "markdown",
   "id": "c965fa01",
   "metadata": {},
   "source": [
    "# Create two functions, one to elevate a number to square and the second to elevate to cube. Run both functions to the elements at the same time."
   ]
  },
  {
   "cell_type": "code",
   "execution_count": 5,
   "id": "49c78add",
   "metadata": {},
   "outputs": [
    {
     "name": "stdout",
     "output_type": "stream",
     "text": [
      "[0, 0]\n",
      "[1, 1]\n",
      "[4, 8]\n",
      "[9, 27]\n",
      "[16, 64]\n"
     ]
    }
   ],
   "source": [
    "listOfNumbers = [0, 1, 2, 3, 4]\n",
    "def cube(n):\n",
    "    return (n**2)\n",
    "def square(n):\n",
    "    return (n**3)\n",
    "funcs = [cube, square]\n",
    "for i in listOfNumbers:\n",
    "    results = map(lambda x: x(i), funcs)\n",
    "    print(list(results))"
   ]
  },
  {
   "cell_type": "markdown",
   "id": "259a3b0c",
   "metadata": {},
   "source": [
    "# Elevate each number of the list to the corresponding number of the other list"
   ]
  },
  {
   "cell_type": "code",
   "execution_count": 6,
   "id": "1873db1f",
   "metadata": {},
   "outputs": [
    {
     "data": {
      "text/plain": [
       "[1024, 177147, 16777216]"
      ]
     },
     "execution_count": 6,
     "metadata": {},
     "output_type": "execute_result"
    }
   ],
   "source": [
    "listA = [2, 3, 4]\n",
    "listB = [10, 11, 12]\n",
    "list(map(pow, listA, listB))"
   ]
  },
  {
   "cell_type": "markdown",
   "id": "527f79c4",
   "metadata": {},
   "source": [
    "# Considering the range of values below, use the function filter to return only negative numbers."
   ]
  },
  {
   "cell_type": "code",
   "execution_count": 7,
   "id": "ff2df419",
   "metadata": {},
   "outputs": [
    {
     "data": {
      "text/plain": [
       "[-5, -4, -3, -2, -1]"
      ]
     },
     "execution_count": 7,
     "metadata": {},
     "output_type": "execute_result"
    }
   ],
   "source": [
    "range(-5, 5)\n",
    "list(filter((lambda x: x < 0), range(-5,5)))"
   ]
  },
  {
   "cell_type": "markdown",
   "id": "cc3d56b3",
   "metadata": {},
   "source": [
    "# Using the filter function, find the values that are common to the two lists bellow"
   ]
  },
  {
   "cell_type": "code",
   "execution_count": 8,
   "id": "25fd760d",
   "metadata": {},
   "outputs": [
    {
     "name": "stdout",
     "output_type": "stream",
     "text": [
      "[2, 3, 5, 7]\n"
     ]
    }
   ],
   "source": [
    "a = [1,2,3,5,7,9]\n",
    "b = [2,3,5,6,7,8]\n",
    "print (list(filter(lambda x: x in a, b)))"
   ]
  },
  {
   "cell_type": "markdown",
   "id": "c90f9850",
   "metadata": {},
   "source": [
    "# Consider the code below. Get the same result using the time package"
   ]
  },
  {
   "cell_type": "code",
   "execution_count": 9,
   "id": "f9d8b4c2",
   "metadata": {},
   "outputs": [
    {
     "name": "stdout",
     "output_type": "stream",
     "text": [
      "16/05/2022 16:57\n",
      "16/05/2022 16:57\n"
     ]
    }
   ],
   "source": [
    "import datetime\n",
    "print (datetime.datetime.now().strftime(\"%d/%m/%Y %H:%M\"))\n",
    "import time\n",
    "print (time.strftime(\"%d/%m/%Y %H:%M\"))"
   ]
  },
  {
   "cell_type": "markdown",
   "id": "45220dcc",
   "metadata": {},
   "source": [
    "# Consider the two dictionaries below. Create a third dictionary with dictionary keys 1 and dictionary values 2."
   ]
  },
  {
   "cell_type": "code",
   "execution_count": 1,
   "id": "3ae11bd0",
   "metadata": {},
   "outputs": [
    {
     "name": "stdout",
     "output_type": "stream",
     "text": [
      "{'a': 4, 'b': 5}\n"
     ]
    }
   ],
   "source": [
    "dict1 = {'a':1,'b':2}\n",
    "dict2 = {'c':4,'d':5}\n",
    "def changeValues(d1, d2):\n",
    "    dicTemp = {}\n",
    "    \n",
    "    for d1key, d2val in zip(d1,d2.values()):\n",
    "        dicTemp[d1key] = d2val\n",
    "    \n",
    "    return dicTemp\n",
    "dict3 = changeValues(dict1, dict2)\n",
    "print(dict3)"
   ]
  },
  {
   "cell_type": "markdown",
   "id": "0f7bac1c",
   "metadata": {},
   "source": [
    "# Consider the list below and return only those elements whose index is greater than 5"
   ]
  },
  {
   "cell_type": "code",
   "execution_count": 2,
   "id": "d46164f4",
   "metadata": {},
   "outputs": [
    {
     "name": "stdout",
     "output_type": "stream",
     "text": [
      "g\n",
      "h\n"
     ]
    }
   ],
   "source": [
    "lista = ['a', 'b', 'c', 'd', 'e', 'f', 'g', 'h']\n",
    "for indice, valor in enumerate(lista):\n",
    "    if indice <= 5:\n",
    "        continue\n",
    "    else:\n",
    "        print (valor)"
   ]
  },
  {
   "cell_type": "code",
   "execution_count": null,
   "id": "c20560c9",
   "metadata": {},
   "outputs": [],
   "source": []
  }
 ],
 "metadata": {
  "kernelspec": {
   "display_name": "Python 3 (ipykernel)",
   "language": "python",
   "name": "python3"
  },
  "language_info": {
   "codemirror_mode": {
    "name": "ipython",
    "version": 3
   },
   "file_extension": ".py",
   "mimetype": "text/x-python",
   "name": "python",
   "nbconvert_exporter": "python",
   "pygments_lexer": "ipython3",
   "version": "3.9.7"
  }
 },
 "nbformat": 4,
 "nbformat_minor": 5
}
