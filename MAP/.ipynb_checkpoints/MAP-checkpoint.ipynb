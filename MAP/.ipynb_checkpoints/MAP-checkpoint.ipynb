{
 "cells": [
  {
   "cell_type": "markdown",
   "id": "53970846",
   "metadata": {},
   "source": [
    "# Using Loop  (TRADITIONAL CODE)"
   ]
  },
  {
   "cell_type": "code",
   "execution_count": 8,
   "id": "a440c550",
   "metadata": {},
   "outputs": [
    {
     "data": {
      "text/plain": [
       "[1, 4, 9, 16, 25]"
      ]
     },
     "execution_count": 8,
     "metadata": {},
     "output_type": "execute_result"
    }
   ],
   "source": [
    "numbers = [1, 2, 3, 4, 5]\n",
    "squared = []\n",
    "\n",
    "for num in numbers:\n",
    "    squared.append(num ** 2)\n",
    "\n",
    "\n",
    "squared"
   ]
  },
  {
   "cell_type": "markdown",
   "id": "0bc6a0ff",
   "metadata": {},
   "source": [
    "# Using Map()"
   ]
  },
  {
   "cell_type": "code",
   "execution_count": 7,
   "id": "e8bfa815",
   "metadata": {},
   "outputs": [
    {
     "data": {
      "text/plain": [
       "[1, 4, 9, 16, 25]"
      ]
     },
     "execution_count": 7,
     "metadata": {},
     "output_type": "execute_result"
    }
   ],
   "source": [
    "def square(number):\n",
    "     return number ** 2\n",
    "    \n",
    "numbers = [1, 2, 3, 4, 5]\n",
    "squared = map(square, numbers)\n",
    "list(squared)"
   ]
  },
  {
   "cell_type": "markdown",
   "id": "918d8df0",
   "metadata": {},
   "source": [
    "map() function returns a map object(which is an iterator) of the results after applying the given function to each item of a given iterable (list, tuple etc.)\n",
    "\n",
    "map(function(), iterator[])\n",
    "\n",
    "function : It is a function to which map passes each element of given iterable.\n",
    "iterator : It is a iterable which is to be mapped.\n",
    "\n",
    "**an iterable like sets, lists, tuples, etc"
   ]
  },
  {
   "cell_type": "code",
   "execution_count": 1,
   "id": "759d0faa",
   "metadata": {},
   "outputs": [
    {
     "name": "stdout",
     "output_type": "stream",
     "text": [
      "[2, 4, 6, 8]\n"
     ]
    }
   ],
   "source": [
    "\n",
    "# Return double of n\n",
    "def addition(n):\n",
    "\treturn n + n\n",
    "\n",
    "\n",
    "# We double all numbers using map()\n",
    "numbers = (1, 2, 3, 4)\n",
    "result = map(addition, numbers)\n",
    "print(list(result))\n"
   ]
  },
  {
   "cell_type": "code",
   "execution_count": 2,
   "id": "420fff3d",
   "metadata": {},
   "outputs": [
    {
     "name": "stdout",
     "output_type": "stream",
     "text": [
      "[2, 4, 6, 8]\n"
     ]
    }
   ],
   "source": [
    "# Double all numbers using map and lambda\n",
    "\n",
    "numbers = (1, 2, 3, 4)\n",
    "result = map(lambda x: x + x, numbers)\n",
    "print(list(result))\n"
   ]
  },
  {
   "cell_type": "code",
   "execution_count": 3,
   "id": "d3f069df",
   "metadata": {},
   "outputs": [
    {
     "name": "stdout",
     "output_type": "stream",
     "text": [
      "[5, 7, 9]\n"
     ]
    }
   ],
   "source": [
    "# Add two lists using map and lambda\n",
    "\n",
    "numbers1 = [1, 2, 3]\n",
    "numbers2 = [4, 5, 6]\n",
    "\n",
    "result = map(lambda x, y: x + y, numbers1, numbers2)\n",
    "print(list(result))\n"
   ]
  },
  {
   "cell_type": "code",
   "execution_count": 4,
   "id": "749f8071",
   "metadata": {},
   "outputs": [
    {
     "name": "stdout",
     "output_type": "stream",
     "text": [
      "[['s', 'a', 't'], ['b', 'a', 't'], ['c', 'a', 't'], ['m', 'a', 't']]\n"
     ]
    }
   ],
   "source": [
    "# List of strings\n",
    "l = ['sat', 'bat', 'cat', 'mat']\n",
    "\n",
    "# map() can listify the list of strings individually\n",
    "test = list(map(list, l))\n",
    "print(test)\n"
   ]
  },
  {
   "cell_type": "markdown",
   "id": "f65884d2",
   "metadata": {},
   "source": [
    "map() Return Value\n",
    "The map() function returns an object of map class. The returned value can be passed to functions like\n",
    "\n",
    "**list() - to convert to list\n",
    "\n",
    "**set() - to convert to a set, and so on."
   ]
  },
  {
   "cell_type": "code",
   "execution_count": 5,
   "id": "0415d838",
   "metadata": {},
   "outputs": [
    {
     "name": "stdout",
     "output_type": "stream",
     "text": [
      "<map object at 0x000001F7170CE940>\n"
     ]
    }
   ],
   "source": [
    "# Return double of n\n",
    "def addition(n):\n",
    "\treturn n + n\n",
    "\n",
    "\n",
    "# We double all numbers using map()\n",
    "numbers = (1, 2, 3, 4)\n",
    "result = map(addition, numbers)\n",
    "print(result)"
   ]
  },
  {
   "cell_type": "markdown",
   "id": "9b227744",
   "metadata": {},
   "source": [
    "# Type Casting using Map()"
   ]
  },
  {
   "cell_type": "code",
   "execution_count": 13,
   "id": "16a1dde6",
   "metadata": {},
   "outputs": [
    {
     "name": "stdout",
     "output_type": "stream",
     "text": [
      "Only Map Object: <map object at 0x000001F717167BB0>\n",
      "Map object convertlist: [4, 8, 6, 5, 3, 2, 8, 9, 2, 5]\n",
      "only str Object: ['4', '8', '6', '5', '3', '2', '8', '9', '2', '5']\n"
     ]
    }
   ],
   "source": [
    "str_nums = [\"4\", \"8\", \"6\", \"5\", \"3\", \"2\", \"8\", \"9\", \"2\", \"5\"]\n",
    "\n",
    "int_nums = map(int, str_nums)\n",
    "\n",
    "print('Only Map Object:',int_nums)\n",
    "\n",
    "print('Map object convertlist:',list(int_nums))\n",
    "\n",
    "print('only str Object:',str_nums)\n",
    "\n"
   ]
  },
  {
   "cell_type": "markdown",
   "id": "b93a7f5b",
   "metadata": {},
   "source": [
    "# map() using Built-in Function"
   ]
  },
  {
   "cell_type": "code",
   "execution_count": 14,
   "id": "0ee0ff95",
   "metadata": {},
   "outputs": [
    {
     "name": "stdout",
     "output_type": "stream",
     "text": [
      "[2, 1, 0, 1, 2]\n",
      "[-2.0, -1.0, 0.0, 1.0, 2.0]\n",
      "[7, 2, 4, 6]\n"
     ]
    }
   ],
   "source": [
    "numbers = [-2, -1, 0, 1, 2]\n",
    "\n",
    "abs_values = list(map(abs, numbers))\n",
    "print(abs_values)\n",
    "\n",
    "print(list(map(float, numbers)))\n",
    "\n",
    "\n",
    "words = [\"Welcome\", \"to\", \"Real\", \"Python\"]\n",
    "\n",
    "print(list(map(len, words)))"
   ]
  },
  {
   "cell_type": "markdown",
   "id": "cb277a09",
   "metadata": {},
   "source": [
    "# math operations on several input iterables:"
   ]
  },
  {
   "cell_type": "code",
   "execution_count": 15,
   "id": "241fc016",
   "metadata": {},
   "outputs": [
    {
     "name": "stdout",
     "output_type": "stream",
     "text": [
      "[1, 1, 1]\n",
      "[10, 15]\n"
     ]
    }
   ],
   "source": [
    "print(list(map(lambda x, y: x - y, [2, 4, 6], [1, 3, 5])))\n",
    "\n",
    "\n",
    "print(list(map(lambda x, y, z: x + y + z, [2, 4], [1, 3], [7, 8])))\n"
   ]
  },
  {
   "cell_type": "markdown",
   "id": "deb4ef85",
   "metadata": {},
   "source": [
    "# map using string"
   ]
  },
  {
   "cell_type": "code",
   "execution_count": 18,
   "id": "5a9f8466",
   "metadata": {},
   "outputs": [
    {
     "name": "stdout",
     "output_type": "stream",
     "text": [
      "Capital: ['Processing', 'Strings', 'With', 'Map']\n",
      "Upper: ['PROCESSING', 'STRINGS', 'WITH', 'MAP']\n",
      "Lower: ['processing', 'strings', 'with', 'map']\n",
      "SwapCase: ['PROCESSING', 'STRINGS', 'WITH', 'MAP']\n",
      "Title: ['Processing', 'Strings', 'With', 'Map']\n"
     ]
    }
   ],
   "source": [
    "string_it = [\"processing\", \"strings\", \"with\", \"map\"]\n",
    "print(\"Capital:\",list(map(str.capitalize, string_it)))\n",
    "\n",
    "print(\"Upper:\",list(map(str.upper, string_it)))\n",
    "\n",
    "print(\"Lower:\",list(map(str.lower, string_it)))\n",
    "\n",
    "print(\"SwapCase:\",list(map(str.swapcase, string_it)))\n",
    "\n",
    "print(\"Title:\",list(map(str.title, string_it)))\n"
   ]
  },
  {
   "cell_type": "code",
   "execution_count": 19,
   "id": "8993c465",
   "metadata": {},
   "outputs": [
    {
     "data": {
      "text/plain": [
       "['processing', 'strings', 'with', 'map']"
      ]
     },
     "execution_count": 19,
     "metadata": {},
     "output_type": "execute_result"
    }
   ],
   "source": [
    "#Remove Space\n",
    "with_spaces = [\"processing \", \"  strings\", \"with   \", \" map   \"]\n",
    "list(map(str.strip, with_spaces))"
   ]
  },
  {
   "cell_type": "code",
   "execution_count": 20,
   "id": "f0719172",
   "metadata": {},
   "outputs": [
    {
     "data": {
      "text/plain": [
       "['processing', 'strings', 'with', 'map']"
      ]
     },
     "execution_count": 20,
     "metadata": {},
     "output_type": "execute_result"
    }
   ],
   "source": [
    "#Remove Dots(.)\n",
    "with_dots = [\"processing..\", \"...strings\", \"with....\", \"..map..\"]\n",
    "list(map(lambda s: s.strip(\".\"), with_dots))"
   ]
  },
  {
   "cell_type": "code",
   "execution_count": 24,
   "id": "b464820c",
   "metadata": {},
   "outputs": [
    {
     "data": {
      "text/plain": [
       "'Python'"
      ]
     },
     "execution_count": 24,
     "metadata": {},
     "output_type": "execute_result"
    }
   ],
   "source": [
    "import re\n",
    "def remove_punctuation(word):\n",
    "     return re.sub(r'[!?.:;,\"()-=]', \"\", word)\n",
    "\n",
    "remove_punctuation(\"...Python!()--=--\")"
   ]
  },
  {
   "cell_type": "code",
   "execution_count": 26,
   "id": "e946c78d",
   "metadata": {},
   "outputs": [
    {
     "data": {
      "text/plain": [
       "['Some',\n",
       " 'people',\n",
       " 'when',\n",
       " 'confronted',\n",
       " 'with',\n",
       " 'a',\n",
       " 'problem',\n",
       " 'think',\n",
       " 'I',\n",
       " 'know',\n",
       " \"I'll\",\n",
       " 'use',\n",
       " 'regular',\n",
       " 'expressions',\n",
       " 'Now',\n",
       " 'they',\n",
       " 'have',\n",
       " 'two',\n",
       " 'problems',\n",
       " 'Jamie',\n",
       " 'Zawinski']"
      ]
     },
     "execution_count": 26,
     "metadata": {},
     "output_type": "execute_result"
    }
   ],
   "source": [
    "text = \"\"\"Some people, when confronted with a problem, think\n",
    "... \"I know, I'll use regular expressions.\"\n",
    "... Now they have two problems. Jamie Zawinski\"\"\"\n",
    "\n",
    "\n",
    "words = text.split()\n",
    "words\n",
    "['Some', 'people,', 'when', 'confronted', 'with', 'a', 'problem,', 'think'\n",
    ", '\"I', 'know,', \"I'll\", 'use', 'regular', 'expressions.\"', 'Now', 'they',\n",
    " 'have', 'two', 'problems.', 'Jamie', 'Zawinski']\n",
    "\n",
    "list(map(remove_punctuation, words))"
   ]
  }
 ],
 "metadata": {
  "kernelspec": {
   "display_name": "Python 3 (ipykernel)",
   "language": "python",
   "name": "python3"
  },
  "language_info": {
   "codemirror_mode": {
    "name": "ipython",
    "version": 3
   },
   "file_extension": ".py",
   "mimetype": "text/x-python",
   "name": "python",
   "nbconvert_exporter": "python",
   "pygments_lexer": "ipython3",
   "version": "3.9.7"
  }
 },
 "nbformat": 4,
 "nbformat_minor": 5
}
