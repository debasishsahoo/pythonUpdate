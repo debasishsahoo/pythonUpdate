{
 "cells": [
  {
   "cell_type": "markdown",
   "id": "61d06ffd",
   "metadata": {},
   "source": [
    "map() function returns a map object(which is an iterator) of the results after applying the given function to each item of a given iterable (list, tuple etc.)\n",
    "\n",
    "map(function(), iterator[])\n",
    "\n",
    "function : It is a function to which map passes each element of given iterable.\n",
    "iterator : It is a iterable which is to be mapped.\n",
    "\n",
    "**an iterable like sets, lists, tuples, etc"
   ]
  },
  {
   "cell_type": "code",
   "execution_count": 1,
   "id": "5de26b31",
   "metadata": {},
   "outputs": [
    {
     "name": "stdout",
     "output_type": "stream",
     "text": [
      "[2, 4, 6, 8]\n"
     ]
    }
   ],
   "source": [
    "\n",
    "# Return double of n\n",
    "def addition(n):\n",
    "\treturn n + n\n",
    "\n",
    "\n",
    "# We double all numbers using map()\n",
    "numbers = (1, 2, 3, 4)\n",
    "result = map(addition, numbers)\n",
    "print(list(result))\n"
   ]
  },
  {
   "cell_type": "code",
   "execution_count": 2,
   "id": "de88526e",
   "metadata": {},
   "outputs": [
    {
     "name": "stdout",
     "output_type": "stream",
     "text": [
      "[2, 4, 6, 8]\n"
     ]
    }
   ],
   "source": [
    "# Double all numbers using map and lambda\n",
    "\n",
    "numbers = (1, 2, 3, 4)\n",
    "result = map(lambda x: x + x, numbers)\n",
    "print(list(result))\n"
   ]
  },
  {
   "cell_type": "code",
   "execution_count": 3,
   "id": "e32ecd6a",
   "metadata": {},
   "outputs": [
    {
     "name": "stdout",
     "output_type": "stream",
     "text": [
      "[5, 7, 9]\n"
     ]
    }
   ],
   "source": [
    "# Add two lists using map and lambda\n",
    "\n",
    "numbers1 = [1, 2, 3]\n",
    "numbers2 = [4, 5, 6]\n",
    "\n",
    "result = map(lambda x, y: x + y, numbers1, numbers2)\n",
    "print(list(result))\n"
   ]
  },
  {
   "cell_type": "code",
   "execution_count": 4,
   "id": "1b8ac196",
   "metadata": {},
   "outputs": [
    {
     "name": "stdout",
     "output_type": "stream",
     "text": [
      "[['s', 'a', 't'], ['b', 'a', 't'], ['c', 'a', 't'], ['m', 'a', 't']]\n"
     ]
    }
   ],
   "source": [
    "# List of strings\n",
    "l = ['sat', 'bat', 'cat', 'mat']\n",
    "\n",
    "# map() can listify the list of strings individually\n",
    "test = list(map(list, l))\n",
    "print(test)\n"
   ]
  },
  {
   "cell_type": "markdown",
   "id": "998d1b20",
   "metadata": {},
   "source": [
    "map() Return Value\n",
    "The map() function returns an object of map class. The returned value can be passed to functions like\n",
    "\n",
    "**list() - to convert to list\n",
    "\n",
    "**set() - to convert to a set, and so on."
   ]
  },
  {
   "cell_type": "code",
   "execution_count": 5,
   "id": "23f2cbd2",
   "metadata": {},
   "outputs": [
    {
     "name": "stdout",
     "output_type": "stream",
     "text": [
      "<map object at 0x000001F7170CE940>\n"
     ]
    }
   ],
   "source": [
    "# Return double of n\n",
    "def addition(n):\n",
    "\treturn n + n\n",
    "\n",
    "\n",
    "# We double all numbers using map()\n",
    "numbers = (1, 2, 3, 4)\n",
    "result = map(addition, numbers)\n",
    "print(result)"
   ]
  },
  {
   "cell_type": "markdown",
   "id": "fb382565",
   "metadata": {},
   "source": [
    "# Using Loop  "
   ]
  },
  {
   "cell_type": "code",
   "execution_count": 8,
   "id": "9c186727",
   "metadata": {},
   "outputs": [
    {
     "data": {
      "text/plain": [
       "[1, 4, 9, 16, 25]"
      ]
     },
     "execution_count": 8,
     "metadata": {},
     "output_type": "execute_result"
    }
   ],
   "source": [
    "numbers = [1, 2, 3, 4, 5]\n",
    "squared = []\n",
    "\n",
    "for num in numbers:\n",
    "    squared.append(num ** 2)\n",
    "\n",
    "\n",
    "squared"
   ]
  },
  {
   "cell_type": "markdown",
   "id": "6fdca716",
   "metadata": {},
   "source": [
    "# Using Map()"
   ]
  },
  {
   "cell_type": "code",
   "execution_count": 7,
   "id": "76a6e766",
   "metadata": {},
   "outputs": [
    {
     "data": {
      "text/plain": [
       "[1, 4, 9, 16, 25]"
      ]
     },
     "execution_count": 7,
     "metadata": {},
     "output_type": "execute_result"
    }
   ],
   "source": [
    "def square(number):\n",
    "     return number ** 2\n",
    "    \n",
    "numbers = [1, 2, 3, 4, 5]\n",
    "squared = map(square, numbers)\n",
    "list(squared)"
   ]
  },
  {
   "cell_type": "markdown",
   "id": "e1228f2b",
   "metadata": {},
   "source": [
    "# Type Casting using Map()"
   ]
  },
  {
   "cell_type": "code",
   "execution_count": 13,
   "id": "db822892",
   "metadata": {},
   "outputs": [
    {
     "name": "stdout",
     "output_type": "stream",
     "text": [
      "Only Map Object: <map object at 0x000001F717167BB0>\n",
      "Map object convertlist: [4, 8, 6, 5, 3, 2, 8, 9, 2, 5]\n",
      "only str Object: ['4', '8', '6', '5', '3', '2', '8', '9', '2', '5']\n"
     ]
    }
   ],
   "source": [
    "str_nums = [\"4\", \"8\", \"6\", \"5\", \"3\", \"2\", \"8\", \"9\", \"2\", \"5\"]\n",
    "\n",
    "int_nums = map(int, str_nums)\n",
    "\n",
    "print('Only Map Object:',int_nums)\n",
    "\n",
    "print('Map object convertlist:',list(int_nums))\n",
    "\n",
    "print('only str Object:',str_nums)\n",
    "\n"
   ]
  },
  {
   "cell_type": "markdown",
   "id": "625c959a",
   "metadata": {},
   "source": [
    "# map() using Built-in Function"
   ]
  },
  {
   "cell_type": "code",
   "execution_count": 14,
   "id": "f411e824",
   "metadata": {},
   "outputs": [
    {
     "name": "stdout",
     "output_type": "stream",
     "text": [
      "[2, 1, 0, 1, 2]\n",
      "[-2.0, -1.0, 0.0, 1.0, 2.0]\n",
      "[7, 2, 4, 6]\n"
     ]
    }
   ],
   "source": [
    "numbers = [-2, -1, 0, 1, 2]\n",
    "\n",
    "abs_values = list(map(abs, numbers))\n",
    "print(abs_values)\n",
    "\n",
    "print(list(map(float, numbers)))\n",
    "\n",
    "\n",
    "words = [\"Welcome\", \"to\", \"Real\", \"Python\"]\n",
    "\n",
    "print(list(map(len, words)))"
   ]
  },
  {
   "cell_type": "code",
   "execution_count": null,
   "id": "6ee09119",
   "metadata": {},
   "outputs": [],
   "source": []
  },
  {
   "cell_type": "code",
   "execution_count": null,
   "id": "ddc9e0ce",
   "metadata": {},
   "outputs": [],
   "source": [
    "list(map(lambda x, y: x - y, [2, 4, 6], [1, 3, 5]))\n",
    "\n",
    "\n",
    "list(map(lambda x, y, z: x + y + z, [2, 4], [1, 3], [7, 8]))\n"
   ]
  },
  {
   "cell_type": "code",
   "execution_count": null,
   "id": "05eca2c5",
   "metadata": {},
   "outputs": [],
   "source": []
  },
  {
   "cell_type": "code",
   "execution_count": null,
   "id": "51025bed",
   "metadata": {},
   "outputs": [],
   "source": []
  },
  {
   "cell_type": "code",
   "execution_count": null,
   "id": "3a4f902c",
   "metadata": {},
   "outputs": [],
   "source": []
  },
  {
   "cell_type": "code",
   "execution_count": null,
   "id": "8898d174",
   "metadata": {},
   "outputs": [],
   "source": []
  },
  {
   "cell_type": "code",
   "execution_count": null,
   "id": "e461ca65",
   "metadata": {},
   "outputs": [],
   "source": []
  },
  {
   "cell_type": "code",
   "execution_count": null,
   "id": "74209478",
   "metadata": {},
   "outputs": [],
   "source": []
  },
  {
   "cell_type": "code",
   "execution_count": null,
   "id": "cb7b6f15",
   "metadata": {},
   "outputs": [],
   "source": []
  },
  {
   "cell_type": "code",
   "execution_count": null,
   "id": "5b97d295",
   "metadata": {},
   "outputs": [],
   "source": []
  },
  {
   "cell_type": "code",
   "execution_count": null,
   "id": "04bd0955",
   "metadata": {},
   "outputs": [],
   "source": []
  },
  {
   "cell_type": "code",
   "execution_count": null,
   "id": "fdb28bca",
   "metadata": {},
   "outputs": [],
   "source": []
  }
 ],
 "metadata": {
  "kernelspec": {
   "display_name": "Python 3 (ipykernel)",
   "language": "python",
   "name": "python3"
  },
  "language_info": {
   "codemirror_mode": {
    "name": "ipython",
    "version": 3
   },
   "file_extension": ".py",
   "mimetype": "text/x-python",
   "name": "python",
   "nbconvert_exporter": "python",
   "pygments_lexer": "ipython3",
   "version": "3.9.7"
  }
 },
 "nbformat": 4,
 "nbformat_minor": 5
}
